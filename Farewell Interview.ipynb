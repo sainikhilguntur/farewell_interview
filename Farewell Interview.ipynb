{
 "cells": [
  {
   "cell_type": "code",
   "execution_count": 1,
   "metadata": {
    "collapsed": true
   },
   "outputs": [],
   "source": [
    "\n",
    "questions = [\"1. What is on your reading list?\",\"2. What is that one thing you are going to \\nmiss the most from our Company?\",\"3. How do you identify a problem which has value to solve?\",\"4. To whom you will give a hug in the team\\n & for what?\",\"5. To whom you will give a spat in the team\\n & for what?\",\"6. Most memorable day in your tenure here in our firm?\",\"7. One thing you like the most about this team?\",\"8. What do you say to yourself the days\\n you don't want to get up from bed in the morning?\",\"9. What do you do when you get super angry?\",\"10. What can cheer you up on a bad day?\",\"11. What is the most difficult task you have accomplished here in your tenure?\"\n",
    "            ,\"12. From the start of this project, \\nwhich component made you struggle the most?\",\"13. When are you penning your Biiography?\",\n",
    "            \"14. Who is your favourite in our team?\", \"15. Whom did you admire the most in \\nyour entire tenure at our company?\"]\n",
    "q = questions"
   ]
  },
  {
   "cell_type": "code",
   "execution_count": 2,
   "metadata": {
    "collapsed": true
   },
   "outputs": [],
   "source": [
    "\n",
    "from tkinter import *\n",
    "import random\n",
    " \n",
    "root = Tk()\n",
    "root.geometry('1000x725')\n",
    "root.title(\"Jake's Interview\")\n",
    "fram = Frame(root)  \n",
    " \n",
    "Find = Button(root, text ='Next Question',width='20',font=(\"Courier\", 15),bg=\"cyan\", fg=\"red\") \n",
    "Label(root, text=\"Welcome Jake !! This is Jupyter here\\n Let us have a fun interview\\n---> Best of Luck <---\\n\",font=(\"Courier\", 20)).pack()\n",
    "v = StringVar()\n",
    "Label(root, textvariable=v,font=(\"Courier\", 20),bg = 'light sky blue',wraplength=1000).pack()\n",
    "\n",
    "v.set(\"Get your questions here\\n\")\n",
    "\n",
    "Find.pack(side = BOTTOM) \n",
    "  \n",
    "fram.pack(side = BOTTOM)\n",
    "text = Text(root,bg='orange',wrap=WORD,relief=RIDGE,font=(\"Courier\", 15) ) \n",
    "for x in questions:\n",
    "    text.insert(END, x + '\\n')\n",
    "text.pack(side = BOTTOM)  \n",
    "  \n",
    "def findNreplace(val,v): \n",
    "    if(val == \"\"):\n",
    "        v.set(\"Jake's Interview Ended !!! \")\n",
    "    else:\n",
    "        v.set(val) \n",
    "        text.tag_remove('found', '1.0', END)\n",
    "        if (val):  \n",
    "            idx = '1.0'\n",
    "            while 1: \n",
    "                idx = text.search(val, idx, nocase = 1,  \n",
    "                                stopindex = END)\n",
    "                if not idx: break \n",
    "                lastidx = '% s+% dc' % (idx, len(val)) \n",
    "\n",
    "                text.delete(idx, lastidx) \n",
    "                text.insert(idx, \"\") \n",
    "\n",
    "                lastidx = '% s+% dc' % (idx, 0)\n",
    "\n",
    "                idx = lastidx  \n",
    "\n",
    "            text.tag_config('found', foreground ='green', background = 'yellow') \n",
    "    \n",
    "\n",
    "def get_question():\n",
    "    if(len(questions) < 6):\n",
    "        v.set(\"Jake's Interview Ended !!! \")\n",
    "    else:\n",
    "        val = random.choice(questions)\n",
    "        questions.remove(val)\n",
    "        findNreplace(val,v)\n",
    "\n",
    "Find.config(command = get_question) \n",
    " \n",
    "root.mainloop() \n"
   ]
  },
  {
   "cell_type": "code",
   "execution_count": null,
   "metadata": {
    "collapsed": true
   },
   "outputs": [],
   "source": []
  }
 ],
 "metadata": {
  "kernelspec": {
   "display_name": "Python 3",
   "language": "python",
   "name": "python3"
  },
  "language_info": {
   "codemirror_mode": {
    "name": "ipython",
    "version": 3
   },
   "file_extension": ".py",
   "mimetype": "text/x-python",
   "name": "python",
   "nbconvert_exporter": "python",
   "pygments_lexer": "ipython3",
   "version": "3.6.3"
  }
 },
 "nbformat": 4,
 "nbformat_minor": 2
}
